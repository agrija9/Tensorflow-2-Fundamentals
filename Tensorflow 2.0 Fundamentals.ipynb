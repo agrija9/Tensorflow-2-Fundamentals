{
 "cells": [
  {
   "cell_type": "markdown",
   "metadata": {},
   "source": [
    "### \"Layer\" class. A Layer encapsulates a state (weights) and some computation (defined in the `call` method)."
   ]
  },
  {
   "cell_type": "code",
   "execution_count": 1,
   "metadata": {},
   "outputs": [],
   "source": [
    "%config IPCompleter.greedy=True # for autotab in Jupyter"
   ]
  },
  {
   "cell_type": "code",
   "execution_count": 2,
   "metadata": {},
   "outputs": [],
   "source": [
    "import tensorflow as tf\n",
    "from tensorflow.keras.layers import Layer"
   ]
  },
  {
   "cell_type": "code",
   "execution_count": 3,
   "metadata": {},
   "outputs": [
    {
     "name": "stdout",
     "output_type": "stream",
     "text": [
      "2.0.0\n"
     ]
    }
   ],
   "source": [
    "print(tf.__version__)"
   ]
  },
  {
   "cell_type": "code",
   "execution_count": 4,
   "metadata": {},
   "outputs": [],
   "source": [
    "class Linear(Layer):\n",
    "    \"\"\"y = w*x + b\"\"\"\n",
    "    \n",
    "    def __init__(self, units=32, input_dim=32):\n",
    "        super(Linear, self).__init__()\n",
    "        \n",
    "        w_init = tf.random_normal_initializer() # random initialization\n",
    "        self.w = tf.Variable(initial_value=w_init(shape=(input_dim, units), dtype=\"float32\"), trainable=True)\n",
    "        b_init = tf.zeros_initializer()\n",
    "        self.b = tf.Variable(initial_value=b_init(shape=(units,), dtype=\"float32\"), trainable=True)\n",
    "        \n",
    "    # call method\n",
    "    def call(self, inputs):\n",
    "        return tf.matmul(inputs, self.w) + self.b # w*x + b\n",
    "\n",
    "# Instantiate Layer\n",
    "linear_layer = Linear(4,2)\n",
    "\n",
    "# Layer can be treated as a function\n",
    "# Input some data \n",
    "y = linear_layer(tf.ones((2,2)))\n",
    "assert y.shape == (2,4)\n",
    "\n",
    "# Weights are automatically tracked under the 'weights' property\n",
    "assert linear_layer.weights == [linear_layer.w, linear_layer.b]"
   ]
  },
  {
   "cell_type": "code",
   "execution_count": 19,
   "metadata": {},
   "outputs": [
    {
     "name": "stdout",
     "output_type": "stream",
     "text": [
      "tf.Tensor(\n",
      "[[ 0.06665818 -0.09086242 -0.01717797  0.02770316]\n",
      " [ 0.06665818 -0.09086242 -0.01717797  0.02770316]], shape=(2, 4), dtype=float32)\n"
     ]
    }
   ],
   "source": [
    "print(y)"
   ]
  },
  {
   "cell_type": "markdown",
   "metadata": {},
   "source": [
    "### It's good practice to create weights in a separate `build` method"
   ]
  },
  {
   "cell_type": "code",
   "execution_count": 17,
   "metadata": {},
   "outputs": [],
   "source": [
    "class Linear(Layer):\n",
    "    \"\"\"y = w*x + b\"\"\"\n",
    "    \n",
    "    def __init__(self, units=32, input_dim=32):\n",
    "        super(Linear, self).__init__()\n",
    "        self.units = units\n",
    "    \n",
    "    # add_weight method shortcut for creating weights\n",
    "    def build(self, input_shape):\n",
    "        self.w = self.add_weight(shape=(input_shape[-1], self.units), \n",
    "                                 initializer=\"random_normal\",\n",
    "                                 trainable=True)\n",
    "        self.b = self.add_weight(shape=(self.units,),\n",
    "                                 initializer=\"random_normal\",\n",
    "                                 trainable=True)\n",
    "    \n",
    "    def call(self, inputs):\n",
    "        return tf.matmul(inputs, self.w) + self.b\n",
    "    \n",
    "# Instantiate layer\n",
    "linear_layer = Linear(4) # this means 4 units (weights) for the layer\n",
    "\n",
    "# This also calls \"build(input_shape)\" and creates the weights\n",
    "y = linear_layer(tf.ones((2,2)))"
   ]
  },
  {
   "cell_type": "code",
   "execution_count": 14,
   "metadata": {},
   "outputs": [
    {
     "name": "stdout",
     "output_type": "stream",
     "text": [
      "tf.Tensor(\n",
      "[[1. 1.]\n",
      " [1. 1.]], shape=(2, 2), dtype=float32)\n"
     ]
    }
   ],
   "source": [
    "print(tf.ones((2,2)))"
   ]
  },
  {
   "cell_type": "code",
   "execution_count": 18,
   "metadata": {},
   "outputs": [
    {
     "name": "stdout",
     "output_type": "stream",
     "text": [
      "tf.Tensor(\n",
      "[[ 0.06665818 -0.09086242 -0.01717797  0.02770316]\n",
      " [ 0.06665818 -0.09086242 -0.01717797  0.02770316]], shape=(2, 4), dtype=float32)\n"
     ]
    }
   ],
   "source": [
    "print(y)"
   ]
  },
  {
   "cell_type": "markdown",
   "metadata": {},
   "source": [
    "### Automatically retreive the gradients of the weights of a layer by calling it inside a GradientTape. With these gradients one can update the weights of a layer, manually or using an optimizer object\n"
   ]
  },
  {
   "cell_type": "code",
   "execution_count": 21,
   "metadata": {},
   "outputs": [],
   "source": [
    "# Load MNIST from keras API\n",
    "(x_train, y_train), _ = tf.keras.datasets.mnist.load_data()\n",
    "dataset = tf.data.Dataset.from_tensor_slices((x_train.reshape(60000,784).astype(\"float32\")/255, y_train))\n",
    "dataset = dataset.shuffle(buffer_size=1024).batch(64)"
   ]
  },
  {
   "cell_type": "code",
   "execution_count": 27,
   "metadata": {},
   "outputs": [
    {
     "name": "stdout",
     "output_type": "stream",
     "text": [
      "0 6.8388214111328125\n",
      "100 6.844223976135254\n",
      "200 6.849213600158691\n",
      "300 6.866031169891357\n",
      "400 6.840302467346191\n",
      "500 6.853946685791016\n",
      "600 6.849768161773682\n",
      "700 6.848651885986328\n",
      "800 6.848796367645264\n",
      "900 6.839184761047363\n"
     ]
    }
   ],
   "source": [
    "# Instantiate linear Layer (above) with 10 units\n",
    "linear_layer = Layer(10)\n",
    "\n",
    "# Instantiate a logistic loss function that expects integer targets\n",
    "loss_fn = tf.keras.losses.SparseCategoricalCrossentropy(from_logits=True)\n",
    "\n",
    "# Instantiate an optimizer\n",
    "optimizer = tf.keras.optimizers.SGD(learning_rate=1e-3)\n",
    "\n",
    "# Iterate over the batches of the dataset\n",
    "for step, (x,y) in enumerate(dataset):\n",
    "    \n",
    "    # open a GradientTape (Tf 2 new feature)\n",
    "    with tf.GradientTape() as tape:\n",
    "        \n",
    "        # do forward pass\n",
    "        logits = linear_layer(x) # input data to layer this -> direction\n",
    "        \n",
    "        # compute loss for this batch\n",
    "        loss = loss_fn(y, logits) # target vs computed\n",
    "        \n",
    "        # get gradients of weights with respect of loss\n",
    "        gradients = tape.gradient(loss, linear_layer.trainable_weights)\n",
    "        \n",
    "    # Update weights of linear layer\n",
    "    optimizer.apply_gradients(zip(gradients, linear_layer.trainable_weights))\n",
    "    \n",
    "    # logging\n",
    "    if step % 100 == 0:\n",
    "        print(step, float(loss))"
   ]
  },
  {
   "cell_type": "markdown",
   "metadata": {},
   "source": [
    "### Weights created by layers can be either trainable or non-trainable. They're exposed in the layer properties `trainable_weights` and `non_trainable_weights. This layer has non-trainable weights"
   ]
  },
  {
   "cell_type": "code",
   "execution_count": 33,
   "metadata": {},
   "outputs": [
    {
     "name": "stdout",
     "output_type": "stream",
     "text": [
      "[2. 2.]\n",
      "[4. 4.]\n"
     ]
    }
   ],
   "source": [
    "class ComputeSum(Layer):\n",
    "    \"\"\"Returns sum of the inputs\"\"\"\n",
    "    \n",
    "    def __init__(self, input_dim):\n",
    "        super(ComputeSum, self).__init__()\n",
    "        \n",
    "        # Create non-trainable weight\n",
    "        self.total = tf.Variable(initial_value=tf.zeros((input_dim,)), trainable=False)\n",
    "        \n",
    "    def call(self, inputs):\n",
    "        self.total.assign_add(tf.reduce_sum(inputs, axis=0)) # add inputs\n",
    "        return self.total\n",
    "    \n",
    "my_sum = ComputeSum(2)\n",
    "x = tf.ones((2,2))\n",
    "\n",
    "y = my_sum(x)\n",
    "print(y.numpy()) # [2, 2]\n",
    "\n",
    "y = my_sum(x)\n",
    "print(y.numpy())\n",
    "\n",
    "assert my_sum.trainable_weights == []"
   ]
  },
  {
   "cell_type": "markdown",
   "metadata": {},
   "source": [
    "###  Layers can be recursively nested to create bigger computation blocks. Each layer will track the weights of its sublayers (both trainable and non-trainable)"
   ]
  },
  {
   "cell_type": "code",
   "execution_count": 38,
   "metadata": {},
   "outputs": [],
   "source": [
    "# This is a multilayer perceptron\n",
    "# Reuse Linear class\n",
    "\n",
    "class MLP(Layer):\n",
    "    \"\"\"Simple stack of linear layers\"\"\"\n",
    "    \n",
    "    def __init__(self):\n",
    "        super(MLP, self).__init__()\n",
    "        self.linear_1 = Linear(32)\n",
    "        self.linear_2 = Linear(32)\n",
    "        self.linear_3 = Linear(10)\n",
    "        \n",
    "    def call(self, inputs):\n",
    "        # connect layers\n",
    "        x = self.linear_1(inputs)\n",
    "        x = tf.nn.relu(x) # activation\n",
    "        x = self.linear_2(x)\n",
    "        x = tf.nn.relu(x)\n",
    "        return self.linear_3(x)\n",
    "    \n",
    "mlp = MLP()\n",
    "\n",
    "# first call will create the weights\n",
    "y = mlp(tf.ones(shape=(3, 64)))\n",
    "\n",
    "# weights are recursively tracked\n",
    "assert len(mlp.weights) == 6"
   ]
  },
  {
   "cell_type": "code",
   "execution_count": null,
   "metadata": {},
   "outputs": [],
   "source": []
  },
  {
   "cell_type": "code",
   "execution_count": null,
   "metadata": {},
   "outputs": [],
   "source": []
  },
  {
   "cell_type": "code",
   "execution_count": null,
   "metadata": {},
   "outputs": [],
   "source": []
  }
 ],
 "metadata": {
  "kernelspec": {
   "display_name": "Python [conda env:Python36] *",
   "language": "python",
   "name": "conda-env-Python36-py"
  },
  "language_info": {
   "codemirror_mode": {
    "name": "ipython",
    "version": 3
   },
   "file_extension": ".py",
   "mimetype": "text/x-python",
   "name": "python",
   "nbconvert_exporter": "python",
   "pygments_lexer": "ipython3",
   "version": "3.6.9"
  }
 },
 "nbformat": 4,
 "nbformat_minor": 2
}
